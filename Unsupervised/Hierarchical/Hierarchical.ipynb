{
 "cells": [
  {
   "cell_type": "markdown",
   "id": "75c84618",
   "metadata": {},
   "source": [
    "+ Kiểm tra khoảng cách lớn nhất theo chiều dọc mà không vượt qua bất kỳ đường ngang nào"
   ]
  },
  {
   "cell_type": "code",
   "execution_count": 1,
   "id": "c7db96b5",
   "metadata": {},
   "outputs": [],
   "source": [
    "import pandas as pd,numpy as np,matplotlib.pyplot as plt,seaborn as sns,warnings,matplotlib.cm as cm\n",
    "from sklearn.metrics import silhouette_samples,silhouette_score,accuracy_score\n",
    "from sklearn.datasets import make_blobs\n",
    "%matplotlib inline\n",
    "warnings.filterwarnings('ignore')\n",
    "from scipy.cluster.hierarchy import dendrogram,linkage,fcluster,cophenet\n",
    "from scipy.spatial.distance import pdist\n",
    "from sklearn.cluster import AgglomerativeClustering"
   ]
  },
  {
   "cell_type": "code",
   "execution_count": 18,
   "id": "6dd9155f",
   "metadata": {},
   "outputs": [],
   "source": [
    "X,y = make_blobs(n_samples=200,n_features=2,centers=3,cluster_std=1.6,random_state=50)"
   ]
  },
  {
   "cell_type": "code",
   "execution_count": 20,
   "id": "8a740114",
   "metadata": {},
   "outputs": [
    {
     "data": {
      "text/plain": [
       "<matplotlib.collections.PathCollection at 0x1b71b407c70>"
      ]
     },
     "execution_count": 20,
     "metadata": {},
     "output_type": "execute_result"
    },
    {
     "data": {
      "image/png": "[encoded data removed]",
      "text/plain": [
       "<Figure size 432x288 with 1 Axes>"
      ]
     },
     "metadata": {
      "needs_background": "light"
     },
     "output_type": "display_data"
    }
   ],
   "source": [
    "plt.scatter(X[:,0],X[:,1])"
   ]
  },
  {
   "cell_type": "code",
   "execution_count": 21,
   "id": "111988a7",
   "metadata": {},
   "outputs": [],
   "source": [
    "z = linkage(X,method='ward')"
   ]
  },
  {
   "cell_type": "code",
   "execution_count": 23,
   "id": "c31e6aeb",
   "metadata": {},
   "outputs": [
    {
     "data": {
      "text/plain": [
       "[Text(0.5, 1.0, 'Truncated Hierarchical Clustering Dendrogram'),\n",
       " Text(0.5, 0, 'Cluster S'),\n",
       " Text(0, 0.5, 'Distance')]"
      ]
     },
     "execution_count": 23,
     "metadata": {},
     "output_type": "execute_result"
    },
    {
     "data": {
      "image/png": "[encoded data removed]",
      "text/plain": [
       "<Figure size 432x288 with 1 Axes>"
      ]
     },
     "metadata": {
      "needs_background": "light"
     },
     "output_type": "display_data"
    }
   ],
   "source": [
    "# plt.figure(figsize=(20,10))\n",
    "fig,ax = plt.subplots()\n",
    "dendrogram(z,truncate_mode='lastp',p=12,leaf_rotation=45.,leaf_font_size=15.,show_contracted=True)\n",
    "ax.set(title = 'Truncated Hierarchical Clustering Dendrogram',xlabel = 'Cluster S',ylabel = 'Distance')\n",
    "# ax.axhline(y=50)\n",
    "# ax.axhline(y=30);"
   ]
  },
  {
   "cell_type": "code",
   "execution_count": 24,
   "id": "8fdb5546",
   "metadata": {},
   "outputs": [
    {
     "data": {
      "text/plain": [
       "array([2, 1, 1, 2, 2, 1, 1, 2, 0, 2, 1, 2, 0, 0, 2, 2, 2, 1, 0, 0, 2, 0,\n",
       "       2, 1, 1, 2, 0, 2, 0, 2, 2, 2, 1, 0, 0, 1, 1, 0, 1, 1, 2, 1, 0, 2,\n",
       "       1, 0, 0, 2, 0, 0, 1, 2, 0, 2, 1, 1, 0, 1, 0, 2, 1, 1, 0, 2, 0, 0,\n",
       "       2, 0, 2, 1, 1, 0, 0, 1, 2, 0, 2, 0, 2, 0, 0, 2, 0, 1, 1, 2, 0, 1,\n",
       "       0, 1, 2, 0, 1, 2, 1, 0, 2, 2, 0, 2, 0, 2, 2, 0, 1, 1, 1, 1, 1, 2,\n",
       "       1, 2, 1, 2, 1, 1, 0, 1, 0, 0, 0, 1, 0, 0, 2, 1, 0, 2, 1, 1, 0, 1,\n",
       "       2, 2, 2, 1, 1, 0, 0, 0, 1, 0, 2, 2, 0, 1, 0, 1, 1, 1, 0, 0, 0, 1,\n",
       "       1, 2, 0, 0, 0, 2, 0, 0, 0, 0, 2, 1, 0, 2, 2, 0, 0, 1, 0, 1, 1, 2,\n",
       "       2, 0, 2, 2, 0, 1, 1, 0, 1, 0, 1, 2, 1, 0, 2, 0, 2, 1, 2, 0, 2, 0,\n",
       "       1, 1], dtype=int64)"
      ]
     },
     "execution_count": 24,
     "metadata": {},
     "output_type": "execute_result"
    }
   ],
   "source": [
    "k = 2\n",
    "Hclustering = AgglomerativeClustering(n_clusters=3,affinity='euclidean',linkage='ward')\n",
    "Hclustering.fit(X)\n",
    "Hclustering.labels_"
   ]
  },
  {
   "cell_type": "code",
   "execution_count": 25,
   "id": "535c5723",
   "metadata": {},
   "outputs": [
    {
     "data": {
      "text/plain": [
       "0.335"
      ]
     },
     "execution_count": 25,
     "metadata": {},
     "output_type": "execute_result"
    }
   ],
   "source": [
    "accuracy_score(y,Hclustering.labels_)"
   ]
  },
  {
   "cell_type": "code",
   "execution_count": null,
   "id": "5efcf746",
   "metadata": {},
   "outputs": [],
   "source": []
  },
  {
   "cell_type": "code",
   "execution_count": null,
   "id": "3da450a8",
   "metadata": {},
   "outputs": [],
   "source": []
  },
  {
   "cell_type": "code",
   "execution_count": null,
   "id": "ba7bb4bb",
   "metadata": {},
   "outputs": [],
   "source": []
  },
  {
   "cell_type": "code",
   "execution_count": null,
   "id": "fb8166e8",
   "metadata": {},
   "outputs": [],
   "source": []
  }
 ],
 "metadata": {
  "kernelspec": {
   "display_name": "Python 3 (ipykernel)",
   "language": "python",
   "name": "python3"
  },
  "language_info": {
   "codemirror_mode": {
    "name": "ipython",
    "version": 3
   },
   "file_extension": ".py",
   "mimetype": "text/x-python",
   "name": "python",
   "nbconvert_exporter": "python",
   "pygments_lexer": "ipython3",
   "version": "3.9.12"
  }
 },
 "nbformat": 4,
 "nbformat_minor": 5
}
