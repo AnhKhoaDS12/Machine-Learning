{
 "cells": [
  {
   "cell_type": "code",
   "execution_count": 15,
   "id": "99b43d3a",
   "metadata": {},
   "outputs": [],
   "source": [
    "import pandas as pd,warnings,numpy as np,matplotlib.pyplot as plt,seaborn as sns\n",
    "from sklearn.model_selection import train_test_split,cross_val_score\n",
    "from sklearn.preprocessing import StandardScaler,LabelEncoder\n",
    "from sklearn.naive_bayes import GaussianNB,MultinomialNB,BernoulliNB\n",
    "from sklearn.metrics import classification_report,confusion_matrix,plot_confusion_matrix,accuracy_score,classification_report\n",
    "from sklearn.feature_extraction.text import CountVectorizer\n",
    "from sklearn.pipeline import Pipeline\n",
    "warnings.filterwarnings('ignore')"
   ]
  },
  {
   "cell_type": "code",
   "execution_count": null,
   "id": "0fb58e19",
   "metadata": {},
   "outputs": [],
   "source": [
    "naive_params = {'var_smoothing':np.logspace(0,-9,num=100)}"
   ]
  },
  {
   "cell_type": "code",
   "execution_count": 2,
   "id": "62b691bd",
   "metadata": {},
   "outputs": [],
   "source": [
    "df = pd.read_csv(r\"C:\\Users\\ADMIN\\Documents\\Data_Science\\Data\\Classified Data.csv\",index_col=0)\n",
    "X = df.drop('TARGET CLASS',axis=1)\n",
    "y = df['TARGET CLASS']\n",
    "X_train, X_test, y_train, y_test = train_test_split(X,y,test_size=0.30,random_state=12)\n",
    "scaler = StandardScaler()\n",
    "X_train_scale = scaler.fit_transform(X_train)\n",
    "X_test_scale = scaler.transform(X_test)\n",
    "df_train_scale = pd.DataFrame(X_train_scale,columns=df.columns[:-1])\n",
    "df_test_scale = pd.DataFrame(X_test_scale,columns=df.columns[:-1])"
   ]
  },
  {
   "cell_type": "code",
   "execution_count": 3,
   "id": "4d8272dd",
   "metadata": {},
   "outputs": [
    {
     "name": "stdout",
     "output_type": "stream",
     "text": [
      "              precision    recall  f1-score   support\n",
      "\n",
      "           0       0.93      0.95      0.94       150\n",
      "           1       0.95      0.93      0.94       150\n",
      "\n",
      "    accuracy                           0.94       300\n",
      "   macro avg       0.94      0.94      0.94       300\n",
      "weighted avg       0.94      0.94      0.94       300\n",
      "\n"
     ]
    },
    {
     "data": {
      "image/png": "[encoded data removed]",
      "text/plain": [
       "<Figure size 432x288 with 2 Axes>"
      ]
     },
     "metadata": {
      "needs_background": "light"
     },
     "output_type": "display_data"
    }
   ],
   "source": [
    "model = GaussianNB()\n",
    "model.fit(X_train_scale,y_train)\n",
    "model.score(X_test_scale,y_test)\n",
    "y_pred = model.predict(X_test_scale)\n",
    "model.predict_proba(X_test_scale)\n",
    "print(classification_report(y_test,y_pred))\n",
    "plot_confusion_matrix(model,X_test_scale,y_test,display_labels=['NOT SPAM','SPAM'],cmap=plt.cm.Blues);"
   ]
  },
  {
   "cell_type": "markdown",
   "id": "59c187f6",
   "metadata": {},
   "source": [
    "# CROSS VALIDATION"
   ]
  },
  {
   "cell_type": "code",
   "execution_count": 4,
   "id": "46386b89",
   "metadata": {},
   "outputs": [
    {
     "data": {
      "text/html": [
       "<div>\n",
       "<style scoped>\n",
       "    .dataframe tbody tr th:only-of-type {\n",
       "        vertical-align: middle;\n",
       "    }\n",
       "\n",
       "    .dataframe tbody tr th {\n",
       "        vertical-align: top;\n",
       "    }\n",
       "\n",
       "    .dataframe thead th {\n",
       "        text-align: right;\n",
       "    }\n",
       "</style>\n",
       "<table border=\"1\" class=\"dataframe\">\n",
       "  <thead>\n",
       "    <tr style=\"text-align: right;\">\n",
       "      <th></th>\n",
       "      <th>Mean accuracy</th>\n",
       "      <th>Standard</th>\n",
       "    </tr>\n",
       "  </thead>\n",
       "  <tbody>\n",
       "    <tr>\n",
       "      <th>0</th>\n",
       "      <td>0.941429</td>\n",
       "      <td>0.012289</td>\n",
       "    </tr>\n",
       "  </tbody>\n",
       "</table>\n",
       "</div>"
      ],
      "text/plain": [
       "   Mean accuracy  Standard\n",
       "0       0.941429  0.012289"
      ]
     },
     "execution_count": 4,
     "metadata": {},
     "output_type": "execute_result"
    }
   ],
   "source": [
    "scores = cross_val_score(GaussianNB(),X_train_scale, y_train, cv=5)\n",
    "result = pd.DataFrame([[np.mean(scores),np.std(scores)]],columns=['Mean accuracy','Standard'])\n",
    "result"
   ]
  },
  {
   "cell_type": "markdown",
   "id": "3b3612a0",
   "metadata": {},
   "source": [
    "# COUNTVECTORIVER_MULTINOMIAL"
   ]
  },
  {
   "cell_type": "code",
   "execution_count": 5,
   "id": "9d4978f0",
   "metadata": {},
   "outputs": [],
   "source": [
    "# vector = CountVectorizer()\n",
    "# X_train_count = vector.fit_transform(X_train.values)\n",
    "# print(vector.get_feature_names())\n",
    "# print(X_train_count.toarray()[:2])"
   ]
  },
  {
   "cell_type": "code",
   "execution_count": 6,
   "id": "28fac656",
   "metadata": {},
   "outputs": [],
   "source": [
    "# model = MultinomialNB().fit(X_train_count,y_train)\n",
    "# emails = [\n",
    "#     'Hey mohan, can we get together to watch footbal game tomorrow?',\n",
    "#     'Upto 20% discount on parking, exclusive offer just for you. Dont miss this reward!'\n",
    "# ]\n",
    "# emails_count = vector.transform(emails)\n",
    "# print(model.predict(emails_count))\n",
    "# X_test_count = vector.transform(X_test)\n",
    "# model.score(X_test_count, y_test)"
   ]
  },
  {
   "cell_type": "markdown",
   "id": "c94c624a",
   "metadata": {},
   "source": [
    "# PIPELINE"
   ]
  },
  {
   "cell_type": "code",
   "execution_count": 7,
   "id": "f5b97a9d",
   "metadata": {},
   "outputs": [],
   "source": [
    "# clf = Pipeline([('vectorizer', CountVectorizer()),('nb', MultinomialNB())]).fit(X_train, y_train)\n",
    "# clf.score(X_test,y_test)\n",
    "# clf.predict(emails)"
   ]
  },
  {
   "cell_type": "markdown",
   "id": "94ea2c95",
   "metadata": {},
   "source": [
    "# VISUALIZATION"
   ]
  },
  {
   "cell_type": "code",
   "execution_count": 8,
   "id": "5952c50e",
   "metadata": {},
   "outputs": [],
   "source": [
    "# import numpy as np,matplotlib.pyplot as plt,seaborn as sns; sns.set()\n",
    "# from sklearn.datasets import make_blobs\n",
    "# X, y = make_blobs(100, 2, centers=2, random_state=2, cluster_std=1.5)\n",
    "# # plt.scatter(X[:, 0], X[:, 1], c=y, s=50, cmap='RdBu')\n",
    "# model = GaussianNB()\n",
    "# model.fit(X, y)\n",
    "# rng = np.random.RandomState(0)\n",
    "# Xnew = [-6, -14] + [14, 18] * rng.rand(2000, 2)\n",
    "# ynew = model.predict(Xnew)\n",
    "# plt.scatter(X[:, 0], X[:, 1], c=y, s=50, cmap='RdBu')\n",
    "# lim = plt.axis()\n",
    "# plt.scatter(Xnew[:, 0], Xnew[:, 1], c=ynew, s=20, cmap='RdBu', alpha=0.1)\n",
    "# plt.axis(lim)"
   ]
  },
  {
   "cell_type": "markdown",
   "id": "0b0ed505",
   "metadata": {},
   "source": [
    "# PRACTICE 1:"
   ]
  },
  {
   "cell_type": "code",
   "execution_count": 9,
   "id": "44f80f60",
   "metadata": {},
   "outputs": [],
   "source": [
    "d1 = [2, 1, 1, 0, 0, 0, 0, 0, 0]\n",
    "d2 = [1, 1, 0, 1, 1, 0, 0, 0, 0]\n",
    "d3 = [0, 1, 0, 0, 1, 1, 0, 0, 0]\n",
    "d4 = [0, 1, 0, 0, 0, 0, 1, 1, 1]\n",
    "train_data = np.array([d1, d2, d3, d4])\n",
    "label = np.array(['Bắc', 'Bắc', 'Bắc', 'Nam']) "
   ]
  },
  {
   "cell_type": "code",
   "execution_count": 10,
   "id": "0d620af3",
   "metadata": {},
   "outputs": [
    {
     "name": "stdout",
     "output_type": "stream",
     "text": [
      "Dự đoán d6 thuộc: Nam\n",
      "Xác suất d6 thuộc Bắc: 0.291753353105219\n",
      "Xác suất d6 thuộc Bắc: 0.7082466468947808\n"
     ]
    }
   ],
   "source": [
    "clf = MultinomialNB().fit(train_data, label)\n",
    "d5 = np.array([[2, 0, 0, 1, 0, 0, 0, 1, 0]])\n",
    "d6 = np.array([[0, 1, 0, 0, 0, 0, 0, 1, 1]])\n",
    "print('Dự đoán d6 thuộc:', clf.predict(d6)[0])\n",
    "print('Xác suất d6 thuộc Bắc:', (clf.predict_proba(d6)[0][0]))\n",
    "print('Xác suất d6 thuộc Bắc:', (clf.predict_proba(d6).flatten()[1]))"
   ]
  },
  {
   "cell_type": "markdown",
   "id": "bdee68ff",
   "metadata": {},
   "source": [
    "# PRACTICE 2:"
   ]
  },
  {
   "cell_type": "code",
   "execution_count": 11,
   "id": "d4b9d65a",
   "metadata": {},
   "outputs": [],
   "source": [
    "d1 = [1, 1, 1, 0, 0, 0, 0, 0, 0]\n",
    "d2 = [1, 1, 0, 1, 1, 0, 0, 0, 0]\n",
    "d3 = [0, 1, 0, 0, 1, 1, 0, 0, 0]\n",
    "d4 = [0, 1, 0, 0, 0, 0, 1, 1, 1]\n",
    "train_data = np.array([d1, d2, d3, d4])\n",
    "label = np.array(['Bắc', 'Bắc', 'Bắc', 'Nam'])"
   ]
  },
  {
   "cell_type": "code",
   "execution_count": 12,
   "id": "5e39d6e1",
   "metadata": {},
   "outputs": [
    {
     "name": "stdout",
     "output_type": "stream",
     "text": [
      "Dự đoán d6 thuộc: Nam\n",
      "Xác suất d6 thuộc Bắc: 0.1694858083329513\n",
      "Xác suất d6 thuộc Bắc: 0.8305141916670489\n"
     ]
    }
   ],
   "source": [
    "clf = BernoulliNB().fit(train_data, label)\n",
    "d5 = np.array([[1, 0, 0, 1, 0, 0, 0, 1, 0]])\n",
    "d6 = np.array([[0, 1, 0, 0, 0, 0, 0, 1, 1]])\n",
    "print('Dự đoán d6 thuộc:', clf.predict(d6)[0])\n",
    "print('Xác suất d6 thuộc Bắc:', (clf.predict_proba(d6)[0][0]))\n",
    "print('Xác suất d6 thuộc Bắc:', (clf.predict_proba(d6).flatten()[1]))"
   ]
  },
  {
   "cell_type": "markdown",
   "id": "d0a70c43",
   "metadata": {},
   "source": [
    "# PRACTICE 3:"
   ]
  },
  {
   "cell_type": "code",
   "execution_count": 17,
   "id": "79e3da8d",
   "metadata": {},
   "outputs": [
    {
     "name": "stdout",
     "output_type": "stream",
     "text": [
      "              precision    recall  f1-score   support\n",
      "\n",
      "           0       0.93      0.97      0.95        58\n",
      "           1       0.90      0.82      0.86        22\n",
      "\n",
      "    accuracy                           0.93        80\n",
      "   macro avg       0.92      0.89      0.90        80\n",
      "weighted avg       0.92      0.93      0.92        80\n",
      "\n"
     ]
    },
    {
     "data": {
      "image/png": "[encoded data removed]",
      "text/plain": [
       "<Figure size 432x288 with 2 Axes>"
      ]
     },
     "metadata": {
      "needs_background": "light"
     },
     "output_type": "display_data"
    }
   ],
   "source": [
    "df = pd.read_csv (r\"C:\\Users\\ADMIN\\Documents\\Data_Science\\Data\\Social_Network_Ads.csv\")\n",
    "X = df.iloc[:,[1, 2, 3]].values\n",
    "y = df.iloc[:,-1].values\n",
    "label = LabelEncoder()\n",
    "X[:,0] = label.fit_transform(X[:,0])\n",
    "X_train, X_test, y_train, y_test = train_test_split(X, y, test_size = 0.20, random_state = 0)\n",
    "sc = StandardScaler()\n",
    "X_train = sc.fit_transform(X_train)\n",
    "X_test = sc.transform(X_test)\n",
    "classifier = GaussianNB().fit(X_train, y_train)\n",
    "y_pred  =  classifier.predict(X_test)\n",
    "plot_confusion_matrix(classifier,X_test,y_test)\n",
    "print(classification_report(y_test,y_pred))"
   ]
  }
 ],
 "metadata": {
  "kernelspec": {
   "display_name": "Python 3 (ipykernel)",
   "language": "python",
   "name": "python3"
  },
  "language_info": {
   "codemirror_mode": {
    "name": "ipython",
    "version": 3
   },
   "file_extension": ".py",
   "mimetype": "text/x-python",
   "name": "python",
   "nbconvert_exporter": "python",
   "pygments_lexer": "ipython3",
   "version": "3.9.12"
  }
 },
 "nbformat": 4,
 "nbformat_minor": 5
}
