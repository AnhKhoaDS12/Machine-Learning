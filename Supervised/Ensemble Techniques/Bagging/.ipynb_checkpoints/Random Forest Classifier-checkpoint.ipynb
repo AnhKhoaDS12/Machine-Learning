{
 "cells": [
  {
   "cell_type": "code",
   "execution_count": 1,
   "id": "ae6a1629",
   "metadata": {},
   "outputs": [],
   "source": [
    "import pandas as pd,warnings,numpy as np,matplotlib.pyplot as plt,seaborn as sns\n",
    "from sklearn.model_selection import train_test_split,cross_val_score,RandomizedSearchCV,GridSearchCV\n",
    "from sklearn.ensemble import RandomForestClassifier,RandomForestRegressor\n",
    "# from sklearn.preprocessing import StandardScaler\n",
    "from sklearn.metrics import accuracy_score,classification_report,confusion_matrix,plot_confusion_matrix\n",
    "from sklearn.tree import plot_tree,export_text\n",
    "from sklearn.datasets import load_boston,load_iris\n",
    "warnings.filterwarnings('ignore')"
   ]
  },
  {
   "cell_type": "code",
   "execution_count": 2,
   "id": "4ede593b",
   "metadata": {},
   "outputs": [],
   "source": [
    "def Evaluate_Classifier(model,X_test,y_test):\n",
    "    y_pred = model.predict(X_test)\n",
    "    plot_confusion_matrix(model,X_test,y_test,display_labels=['NO','YES'],cmap=plt.cm.Blues)\n",
    "    accuracy = accuracy_score(y_test,y_pred)\n",
    "    print('Model Performance')\n",
    "    print('Accuracy: {:.0%}'.format(accuracy))\n",
    "    print(classification_report(y_pred,y_test))\n",
    "    return accuracy"
   ]
  },
  {
   "cell_type": "code",
   "execution_count": 3,
   "id": "37c7912c",
   "metadata": {},
   "outputs": [],
   "source": [
    "def Accuracy(model,X,y,name_accuracy):\n",
    "    print('{}: {score:.2%}'.format(name_accuracy,score = model.score(X,y)))"
   ]
  },
  {
   "cell_type": "markdown",
   "id": "29006b41",
   "metadata": {},
   "source": [
    "# PARAMETERS"
   ]
  },
  {
   "cell_type": "code",
   "execution_count": 4,
   "id": "381185cb",
   "metadata": {},
   "outputs": [],
   "source": [
    "n_estimators = [int(x) for x in np.linspace(200,2000,10)]\n",
    "max_features = ['auto', 'sqrt']\n",
    "max_depth = [int(x) for x in np.linspace(10,110,11)]\n",
    "min_samples_split = [2, 5, 10]\n",
    "min_samples_leaf = [1, 2, 4]\n",
    "bootstrap = [True, False]\n",
    "criterion = ['gini','entropy','log_loss']\n",
    "\n",
    "rf_params = {'max_depth':[3,5,10,None],\n",
    "               'n_estimators': n_estimators,\n",
    "               'max_features': max_features,\n",
    "               'criterion': criterion,\n",
    "               'bootstrap': bootstrap,\n",
    "               'min_samples_leaf':min_samples_leaf,\n",
    "             'min_samples_split':min_samples_split}"
   ]
  },
  {
   "cell_type": "markdown",
   "id": "d41a5cae",
   "metadata": {},
   "source": [
    "# DATA"
   ]
  },
  {
   "cell_type": "code",
   "execution_count": 5,
   "id": "f6a498f8",
   "metadata": {},
   "outputs": [],
   "source": [
    "# df = pd.read_csv(r\"C:\\Users\\ADMIN\\Documents\\Data_Science\\Data\\Social_Network_Ads.csv\")\n",
    "# df['Gender'] = df['Gender'].map({'Female':0,'Male':1})\n",
    "# X = df.iloc[:, [2, 3]]\n",
    "# y = df.iloc[:, 4]\n",
    "# X_train, X_test, y_train, y_test = train_test_split(X, y, test_size = 0.25, random_state =0)\n",
    "# # scaler = StandardScaler()\n",
    "# # X_train = scaler.fit_transform(X_train)\n",
    "# # X_test = scaler.transform(X_test)"
   ]
  },
  {
   "cell_type": "code",
   "execution_count": 6,
   "id": "422f560f",
   "metadata": {},
   "outputs": [],
   "source": [
    "df = pd.read_csv('https://archive.ics.uci.edu/ml/machine-learning-databases/heart-disease/processed.cleveland.data',header=None)\n",
    "df.columns = ['age','sex','cp','restbp','chol','fbs','restecg','thalach','exang','oldpeak','slope','ca','thal','hd']\n",
    "# for i in df.columns:\n",
    "#     print(i,df[i].unique())\n",
    "df_rows_missing = df.loc[(df['ca']=='?') | (df['thal']=='?')]\n",
    "df_no_missing = df.loc[(df['ca']!='?') & (df['thal']!='?')]\n",
    "X = df_no_missing.drop('hd',axis=1)\n",
    "y = df_no_missing.iloc[:,-1]\n",
    "X_encoded = pd.get_dummies(X,columns=['cp','restecg','slope','thal'])\n",
    "### >1: co benh tim\n",
    "y[y>0] = 1\n",
    "X_train,X_test,y_train,y_test = train_test_split(X_encoded,y,random_state=42)"
   ]
  },
  {
   "cell_type": "markdown",
   "id": "be62ee5b",
   "metadata": {},
   "source": [
    "# BASE MODEL"
   ]
  },
  {
   "cell_type": "code",
   "execution_count": 7,
   "id": "4d5d7856",
   "metadata": {},
   "outputs": [
    {
     "data": {
      "text/html": [
       "<style>#sk-container-id-1 {color: black;background-color: white;}#sk-container-id-1 pre{padding: 0;}#sk-container-id-1 div.sk-toggleable {background-color: white;}#sk-container-id-1 label.sk-toggleable__label {cursor: pointer;display: block;width: 100%;margin-bottom: 0;padding: 0.3em;box-sizing: border-box;text-align: center;}#sk-container-id-1 label.sk-toggleable__label-arrow:before {content: \"▸\";float: left;margin-right: 0.25em;color: #696969;}#sk-container-id-1 label.sk-toggleable__label-arrow:hover:before {color: black;}#sk-container-id-1 div.sk-estimator:hover label.sk-toggleable__label-arrow:before {color: black;}#sk-container-id-1 div.sk-toggleable__content {max-height: 0;max-width: 0;overflow: hidden;text-align: left;background-color: #f0f8ff;}#sk-container-id-1 div.sk-toggleable__content pre {margin: 0.2em;color: black;border-radius: 0.25em;background-color: #f0f8ff;}#sk-container-id-1 input.sk-toggleable__control:checked~div.sk-toggleable__content {max-height: 200px;max-width: 100%;overflow: auto;}#sk-container-id-1 input.sk-toggleable__control:checked~label.sk-toggleable__label-arrow:before {content: \"▾\";}#sk-container-id-1 div.sk-estimator input.sk-toggleable__control:checked~label.sk-toggleable__label {background-color: #d4ebff;}#sk-container-id-1 div.sk-label input.sk-toggleable__control:checked~label.sk-toggleable__label {background-color: #d4ebff;}#sk-container-id-1 input.sk-hidden--visually {border: 0;clip: rect(1px 1px 1px 1px);clip: rect(1px, 1px, 1px, 1px);height: 1px;margin: -1px;overflow: hidden;padding: 0;position: absolute;width: 1px;}#sk-container-id-1 div.sk-estimator {font-family: monospace;background-color: #f0f8ff;border: 1px dotted black;border-radius: 0.25em;box-sizing: border-box;margin-bottom: 0.5em;}#sk-container-id-1 div.sk-estimator:hover {background-color: #d4ebff;}#sk-container-id-1 div.sk-parallel-item::after {content: \"\";width: 100%;border-bottom: 1px solid gray;flex-grow: 1;}#sk-container-id-1 div.sk-label:hover label.sk-toggleable__label {background-color: #d4ebff;}#sk-container-id-1 div.sk-serial::before {content: \"\";position: absolute;border-left: 1px solid gray;box-sizing: border-box;top: 0;bottom: 0;left: 50%;z-index: 0;}#sk-container-id-1 div.sk-serial {display: flex;flex-direction: column;align-items: center;background-color: white;padding-right: 0.2em;padding-left: 0.2em;position: relative;}#sk-container-id-1 div.sk-item {position: relative;z-index: 1;}#sk-container-id-1 div.sk-parallel {display: flex;align-items: stretch;justify-content: center;background-color: white;position: relative;}#sk-container-id-1 div.sk-item::before, #sk-container-id-1 div.sk-parallel-item::before {content: \"\";position: absolute;border-left: 1px solid gray;box-sizing: border-box;top: 0;bottom: 0;left: 50%;z-index: -1;}#sk-container-id-1 div.sk-parallel-item {display: flex;flex-direction: column;z-index: 1;position: relative;background-color: white;}#sk-container-id-1 div.sk-parallel-item:first-child::after {align-self: flex-end;width: 50%;}#sk-container-id-1 div.sk-parallel-item:last-child::after {align-self: flex-start;width: 50%;}#sk-container-id-1 div.sk-parallel-item:only-child::after {width: 0;}#sk-container-id-1 div.sk-dashed-wrapped {border: 1px dashed gray;margin: 0 0.4em 0.5em 0.4em;box-sizing: border-box;padding-bottom: 0.4em;background-color: white;}#sk-container-id-1 div.sk-label label {font-family: monospace;font-weight: bold;display: inline-block;line-height: 1.2em;}#sk-container-id-1 div.sk-label-container {text-align: center;}#sk-container-id-1 div.sk-container {/* jupyter's `normalize.less` sets `[hidden] { display: none; }` but bootstrap.min.css set `[hidden] { display: none !important; }` so we also need the `!important` here to be able to override the default hidden behavior on the sphinx rendered scikit-learn.org. See: https://github.com/scikit-learn/scikit-learn/issues/21755 */display: inline-block !important;position: relative;}#sk-container-id-1 div.sk-text-repr-fallback {display: none;}</style><div id=\"sk-container-id-1\" class=\"sk-top-container\"><div class=\"sk-text-repr-fallback\"><pre>RandomForestClassifier()</pre><b>In a Jupyter environment, please rerun this cell to show the HTML representation or trust the notebook. <br />On GitHub, the HTML representation is unable to render, please try loading this page with nbviewer.org.</b></div><div class=\"sk-container\" hidden><div class=\"sk-item\"><div class=\"sk-estimator sk-toggleable\"><input class=\"sk-toggleable__control sk-hidden--visually\" id=\"sk-estimator-id-1\" type=\"checkbox\" checked><label for=\"sk-estimator-id-1\" class=\"sk-toggleable__label sk-toggleable__label-arrow\">RandomForestClassifier</label><div class=\"sk-toggleable__content\"><pre>RandomForestClassifier()</pre></div></div></div></div></div>"
      ],
      "text/plain": [
       "RandomForestClassifier()"
      ]
     },
     "execution_count": 7,
     "metadata": {},
     "output_type": "execute_result"
    }
   ],
   "source": [
    "base_model = RandomForestClassifier()\n",
    "base_model.fit(X_train,y_train)"
   ]
  },
  {
   "cell_type": "markdown",
   "id": "1a1cc6f0",
   "metadata": {},
   "source": [
    "# RandomizedSearchCV"
   ]
  },
  {
   "cell_type": "code",
   "execution_count": 8,
   "id": "36950d9b",
   "metadata": {},
   "outputs": [],
   "source": [
    "def Hypertuning_rscv(model,params,n_iter,cv,X_train,y_train):\n",
    "    random = RandomizedSearchCV(estimator=model, param_distributions=params, n_jobs=-1, n_iter=n_iter, cv=cv,verbose=2, random_state=42)\n",
    "    random.fit(X_train,y_train)\n",
    "    best_params = random.best_params_\n",
    "    best_score = random.best_score_\n",
    "    best_estimator = random.best_estimator_\n",
    "    return best_params,best_score,best_estimator"
   ]
  },
  {
   "cell_type": "code",
   "execution_count": 9,
   "id": "4050fb58",
   "metadata": {},
   "outputs": [
    {
     "name": "stdout",
     "output_type": "stream",
     "text": [
      "Fitting 3 folds for each of 20 candidates, totalling 60 fits\n"
     ]
    }
   ],
   "source": [
    "best_params, best_score, best_estimator_random = Hypertuning_rscv(RandomForestClassifier(),rf_params,20,3,X_train,y_train)"
   ]
  },
  {
   "cell_type": "markdown",
   "id": "9d45c9f5",
   "metadata": {},
   "source": [
    "# GridSearchCV"
   ]
  },
  {
   "cell_type": "code",
   "execution_count": 10,
   "id": "b2deed1b",
   "metadata": {},
   "outputs": [],
   "source": [
    "def Hypertuning_gscv(model,params,cv,X_train,y_train):\n",
    "    grid = GridSearchCV(estimator = model, param_grid = params, cv=cv, n_jobs=-1, verbose=2)\n",
    "    grid.fit(X_train,y_train)\n",
    "    best_score = grid.best_score_\n",
    "    best_params = grid.best_params_\n",
    "    best_estimator = grid.best_estimator_\n",
    "    return best_params,best_score,best_estimator"
   ]
  },
  {
   "cell_type": "code",
   "execution_count": 11,
   "id": "1f22f0ff",
   "metadata": {},
   "outputs": [],
   "source": [
    "# best_params, best_score, best_estimator_grid = Hypertuning_gscv(RandomForestClassifier(),rf_params,3,X_train,y_train)"
   ]
  },
  {
   "cell_type": "markdown",
   "id": "05529147",
   "metadata": {},
   "source": [
    "# Evaluation"
   ]
  },
  {
   "cell_type": "markdown",
   "id": "f93d16a9",
   "metadata": {},
   "source": [
    "SCORE"
   ]
  },
  {
   "cell_type": "code",
   "execution_count": 12,
   "id": "7afa3ece",
   "metadata": {},
   "outputs": [
    {
     "name": "stdout",
     "output_type": "stream",
     "text": [
      "Train Accuracy Base Model: 100.00%\n",
      "Test Accuracy Base Model: 84.00%\n",
      "\n",
      "Train Accuracy Randomimzed: 86.04%\n",
      "Test Accuracy Randomized: 89.33%\n"
     ]
    }
   ],
   "source": [
    "Accuracy(base_model,X_train,y_train,'Train Accuracy Base Model')\n",
    "Accuracy(base_model,X_test,y_test,'Test Accuracy Base Model')\n",
    "print('')\n",
    "Accuracy(best_estimator_random,X_train,y_train,'Train Accuracy Randomimzed')\n",
    "Accuracy(best_estimator_random,X_test,y_test,'Test Accuracy Randomized')\n",
    "# print('')\n",
    "# Accuracy(best_estimator_grid,X_train,y_train,'Train Accuracy Grid')\n",
    "# Accuracy(best_estimator_grid,X_test,y_test,'Test Accuracy Grid')"
   ]
  },
  {
   "cell_type": "markdown",
   "id": "3a9e77e6",
   "metadata": {},
   "source": [
    "CONFUSION & ACCURACY & CLASSIFICATION REPORT"
   ]
  },
  {
   "cell_type": "code",
   "execution_count": 13,
   "id": "2a57e69c",
   "metadata": {},
   "outputs": [
    {
     "name": "stdout",
     "output_type": "stream",
     "text": [
      "Model Performance\n",
      "Accuracy: 84%\n",
      "              precision    recall  f1-score   support\n",
      "\n",
      "           0       0.88      0.84      0.86        44\n",
      "           1       0.79      0.84      0.81        31\n",
      "\n",
      "    accuracy                           0.84        75\n",
      "   macro avg       0.83      0.84      0.84        75\n",
      "weighted avg       0.84      0.84      0.84        75\n",
      "\n"
     ]
    },
    {
     "data": {
      "image/png": "[encoded data removed]",
      "text/plain": [
       "<Figure size 432x288 with 2 Axes>"
      ]
     },
     "metadata": {
      "needs_background": "light"
     },
     "output_type": "display_data"
    }
   ],
   "source": [
    "base_accuracy = Evaluate_Classifier(base_model,X_test,y_test)"
   ]
  },
  {
   "cell_type": "code",
   "execution_count": 14,
   "id": "56ed0f28",
   "metadata": {},
   "outputs": [
    {
     "name": "stdout",
     "output_type": "stream",
     "text": [
      "Model Performance\n",
      "Accuracy: 89%\n",
      "              precision    recall  f1-score   support\n",
      "\n",
      "           0       0.93      0.89      0.91        44\n",
      "           1       0.85      0.90      0.88        31\n",
      "\n",
      "    accuracy                           0.89        75\n",
      "   macro avg       0.89      0.89      0.89        75\n",
      "weighted avg       0.90      0.89      0.89        75\n",
      "\n"
     ]
    },
    {
     "data": {
      "image/png": "[encoded data removed]",
      "text/plain": [
       "<Figure size 432x288 with 2 Axes>"
      ]
     },
     "metadata": {
      "needs_background": "light"
     },
     "output_type": "display_data"
    }
   ],
   "source": [
    "random_accuracy_classifier = Evaluate_Classifier(best_estimator_random,X_test,y_test)"
   ]
  },
  {
   "cell_type": "code",
   "execution_count": 15,
   "id": "ec222b68",
   "metadata": {},
   "outputs": [
    {
     "name": "stdout",
     "output_type": "stream",
     "text": [
      "Improvement of 6.35%\n"
     ]
    }
   ],
   "source": [
    "print('Improvement of {:.2%}'.format((random_accuracy_classifier-base_accuracy)/base_accuracy))"
   ]
  },
  {
   "cell_type": "code",
   "execution_count": 16,
   "id": "3ba7fee8",
   "metadata": {},
   "outputs": [],
   "source": [
    "# grid_accuracy_classifier = Evaluate_Classifier(best_estimator_grid,X_test,y_test)"
   ]
  },
  {
   "cell_type": "code",
   "execution_count": 17,
   "id": "814104a4",
   "metadata": {},
   "outputs": [],
   "source": [
    "# print('Improvement of {:0.2%}'.format((grid_accuracy_classifier-base_accuracy)/base_accuracy))"
   ]
  },
  {
   "cell_type": "markdown",
   "id": "f46586cb",
   "metadata": {},
   "source": [
    "VISUALIZATION"
   ]
  },
  {
   "cell_type": "code",
   "execution_count": 18,
   "id": "911ce5e5",
   "metadata": {},
   "outputs": [],
   "source": [
    "# def Visualize_rf(model,feature_names):\n",
    "#     for i in range(len(model)):\n",
    "#         plt.figure(figsize=(15,10))\n",
    "#         print('TREE {}'.format(i+1))\n",
    "#         plot_tree(model[i],filled=True,feature_names=feature_names,class_names=[str(i) for i in model.classes_])\n",
    "#         plt.show()\n",
    "#         print(export_text(model[i],feature_names=list(feature_names)))\n",
    "#         print(\"_\"*100)"
   ]
  },
  {
   "cell_type": "code",
   "execution_count": 19,
   "id": "822815f0",
   "metadata": {},
   "outputs": [],
   "source": [
    "# Visualize_rf(best_estimator,X_train.columns)"
   ]
  }
 ],
 "metadata": {
  "kernelspec": {
   "display_name": "Python 3 (ipykernel)",
   "language": "python",
   "name": "python3"
  },
  "language_info": {
   "codemirror_mode": {
    "name": "ipython",
    "version": 3
   },
   "file_extension": ".py",
   "mimetype": "text/x-python",
   "name": "python",
   "nbconvert_exporter": "python",
   "pygments_lexer": "ipython3",
   "version": "3.9.12"
  }
 },
 "nbformat": 4,
 "nbformat_minor": 5
}
