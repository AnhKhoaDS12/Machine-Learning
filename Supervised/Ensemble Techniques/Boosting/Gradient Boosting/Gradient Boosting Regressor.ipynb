{
 "cells": [
  {
   "cell_type": "code",
   "execution_count": 1,
   "id": "0c0c2c30",
   "metadata": {},
   "outputs": [],
   "source": [
    "import pandas as pd,warnings,numpy as np,matplotlib.pyplot as plt,seaborn as sns,scipy as sp\n",
    "from sklearn.model_selection import train_test_split,RandomizedSearchCV,GridSearchCV\n",
    "from sklearn.ensemble import GradientBoostingRegressor\n",
    "from sklearn.metrics import accuracy_score,classification_report,confusion_matrix,mean_squared_error,r2_score\n",
    "from sklearn.datasets import load_boston\n",
    "from sklearn.tree import plot_tree\n",
    "warnings.filterwarnings('ignore')"
   ]
  },
  {
   "cell_type": "code",
   "execution_count": 2,
   "id": "a31e5f89",
   "metadata": {},
   "outputs": [],
   "source": [
    "def Evaluate_Regressor(model,X_test,y_test):\n",
    "    y_pred = model.predict(X_test)\n",
    "    errors = abs(y_pred - y_test)\n",
    "    mape = 100 * np.mean(errors/y_test)\n",
    "    accuracy = 100 - mape\n",
    "    print('Model Performance')\n",
    "    print('Average Error: {:0.4f} degrees.'.format(np.mean(errors)))\n",
    "    print('Accuracy = {:0.2f}%.'.format(accuracy))\n",
    "    return accuracy"
   ]
  },
  {
   "cell_type": "code",
   "execution_count": 3,
   "id": "12005965",
   "metadata": {},
   "outputs": [],
   "source": [
    "def R2_score(model,X,y,name_r_score):\n",
    "    y_pred = model.predict(X)\n",
    "    print('{}: {:.2%}'.format(name_r_score,r2_score(y,y_pred)))"
   ]
  },
  {
   "cell_type": "markdown",
   "id": "a82dfd59",
   "metadata": {},
   "source": [
    "# PARAMETERS"
   ]
  },
  {
   "cell_type": "code",
   "execution_count": 4,
   "id": "506a3160",
   "metadata": {},
   "outputs": [],
   "source": [
    "learning_rate = [0.0001, 0.001, 0.01,0.05, 0.1,0.15,1.0]\n",
    "n_estimators = [100,150,200,250,500]\n",
    "loss = ['squared_error','absolute_error','huber','quantile']\n",
    "criterion = ['friedman_mse','squared_error']\n",
    "max_depth = [3,4,5,6,7]\n",
    "max_features = ['auto','sqrt','log2']\n",
    "min_samples_split = [2, 5, 10]\n",
    "min_samples_leaf = [1, 2, 4]\n",
    "\n",
    "gb_params = {'learning_rate':learning_rate,'n_estimators':n_estimators,'loss':loss,'criterion':criterion,\n",
    "             'max_depth':max_depth,'max_features':max_features,'min_samples_split':min_samples_split,\n",
    "             'min_samples_leaf':min_samples_leaf}"
   ]
  },
  {
   "cell_type": "markdown",
   "id": "f5049765",
   "metadata": {},
   "source": [
    "# DATA"
   ]
  },
  {
   "cell_type": "code",
   "execution_count": 5,
   "id": "7b161663",
   "metadata": {},
   "outputs": [],
   "source": [
    "boston = load_boston()\n",
    "X = pd.DataFrame(boston.data,columns=boston.feature_names)\n",
    "y = pd.Series(boston.target)\n",
    "X_train,X_test,y_train,y_test = train_test_split(X,y,test_size=.3,random_state=10)"
   ]
  },
  {
   "cell_type": "markdown",
   "id": "1206c86a",
   "metadata": {},
   "source": [
    "# BASE MODEL"
   ]
  },
  {
   "cell_type": "code",
   "execution_count": 6,
   "id": "79ac4fcb",
   "metadata": {},
   "outputs": [
    {
     "data": {
      "text/html": [
       "<style>#sk-container-id-1 {color: black;background-color: white;}#sk-container-id-1 pre{padding: 0;}#sk-container-id-1 div.sk-toggleable {background-color: white;}#sk-container-id-1 label.sk-toggleable__label {cursor: pointer;display: block;width: 100%;margin-bottom: 0;padding: 0.3em;box-sizing: border-box;text-align: center;}#sk-container-id-1 label.sk-toggleable__label-arrow:before {content: \"▸\";float: left;margin-right: 0.25em;color: #696969;}#sk-container-id-1 label.sk-toggleable__label-arrow:hover:before {color: black;}#sk-container-id-1 div.sk-estimator:hover label.sk-toggleable__label-arrow:before {color: black;}#sk-container-id-1 div.sk-toggleable__content {max-height: 0;max-width: 0;overflow: hidden;text-align: left;background-color: #f0f8ff;}#sk-container-id-1 div.sk-toggleable__content pre {margin: 0.2em;color: black;border-radius: 0.25em;background-color: #f0f8ff;}#sk-container-id-1 input.sk-toggleable__control:checked~div.sk-toggleable__content {max-height: 200px;max-width: 100%;overflow: auto;}#sk-container-id-1 input.sk-toggleable__control:checked~label.sk-toggleable__label-arrow:before {content: \"▾\";}#sk-container-id-1 div.sk-estimator input.sk-toggleable__control:checked~label.sk-toggleable__label {background-color: #d4ebff;}#sk-container-id-1 div.sk-label input.sk-toggleable__control:checked~label.sk-toggleable__label {background-color: #d4ebff;}#sk-container-id-1 input.sk-hidden--visually {border: 0;clip: rect(1px 1px 1px 1px);clip: rect(1px, 1px, 1px, 1px);height: 1px;margin: -1px;overflow: hidden;padding: 0;position: absolute;width: 1px;}#sk-container-id-1 div.sk-estimator {font-family: monospace;background-color: #f0f8ff;border: 1px dotted black;border-radius: 0.25em;box-sizing: border-box;margin-bottom: 0.5em;}#sk-container-id-1 div.sk-estimator:hover {background-color: #d4ebff;}#sk-container-id-1 div.sk-parallel-item::after {content: \"\";width: 100%;border-bottom: 1px solid gray;flex-grow: 1;}#sk-container-id-1 div.sk-label:hover label.sk-toggleable__label {background-color: #d4ebff;}#sk-container-id-1 div.sk-serial::before {content: \"\";position: absolute;border-left: 1px solid gray;box-sizing: border-box;top: 0;bottom: 0;left: 50%;z-index: 0;}#sk-container-id-1 div.sk-serial {display: flex;flex-direction: column;align-items: center;background-color: white;padding-right: 0.2em;padding-left: 0.2em;position: relative;}#sk-container-id-1 div.sk-item {position: relative;z-index: 1;}#sk-container-id-1 div.sk-parallel {display: flex;align-items: stretch;justify-content: center;background-color: white;position: relative;}#sk-container-id-1 div.sk-item::before, #sk-container-id-1 div.sk-parallel-item::before {content: \"\";position: absolute;border-left: 1px solid gray;box-sizing: border-box;top: 0;bottom: 0;left: 50%;z-index: -1;}#sk-container-id-1 div.sk-parallel-item {display: flex;flex-direction: column;z-index: 1;position: relative;background-color: white;}#sk-container-id-1 div.sk-parallel-item:first-child::after {align-self: flex-end;width: 50%;}#sk-container-id-1 div.sk-parallel-item:last-child::after {align-self: flex-start;width: 50%;}#sk-container-id-1 div.sk-parallel-item:only-child::after {width: 0;}#sk-container-id-1 div.sk-dashed-wrapped {border: 1px dashed gray;margin: 0 0.4em 0.5em 0.4em;box-sizing: border-box;padding-bottom: 0.4em;background-color: white;}#sk-container-id-1 div.sk-label label {font-family: monospace;font-weight: bold;display: inline-block;line-height: 1.2em;}#sk-container-id-1 div.sk-label-container {text-align: center;}#sk-container-id-1 div.sk-container {/* jupyter's `normalize.less` sets `[hidden] { display: none; }` but bootstrap.min.css set `[hidden] { display: none !important; }` so we also need the `!important` here to be able to override the default hidden behavior on the sphinx rendered scikit-learn.org. See: https://github.com/scikit-learn/scikit-learn/issues/21755 */display: inline-block !important;position: relative;}#sk-container-id-1 div.sk-text-repr-fallback {display: none;}</style><div id=\"sk-container-id-1\" class=\"sk-top-container\"><div class=\"sk-text-repr-fallback\"><pre>GradientBoostingRegressor()</pre><b>In a Jupyter environment, please rerun this cell to show the HTML representation or trust the notebook. <br />On GitHub, the HTML representation is unable to render, please try loading this page with nbviewer.org.</b></div><div class=\"sk-container\" hidden><div class=\"sk-item\"><div class=\"sk-estimator sk-toggleable\"><input class=\"sk-toggleable__control sk-hidden--visually\" id=\"sk-estimator-id-1\" type=\"checkbox\" checked><label for=\"sk-estimator-id-1\" class=\"sk-toggleable__label sk-toggleable__label-arrow\">GradientBoostingRegressor</label><div class=\"sk-toggleable__content\"><pre>GradientBoostingRegressor()</pre></div></div></div></div></div>"
      ],
      "text/plain": [
       "GradientBoostingRegressor()"
      ]
     },
     "execution_count": 6,
     "metadata": {},
     "output_type": "execute_result"
    }
   ],
   "source": [
    "base_model = GradientBoostingRegressor()\n",
    "base_model.fit(X_train,y_train)"
   ]
  },
  {
   "cell_type": "markdown",
   "id": "119c6a4f",
   "metadata": {},
   "source": [
    "# RandomizedSearchCV"
   ]
  },
  {
   "cell_type": "code",
   "execution_count": 7,
   "id": "4ae31361",
   "metadata": {},
   "outputs": [],
   "source": [
    "def Hypertuning_rscv(model,params,n_iter,cv,X_train,y_train):\n",
    "    random = RandomizedSearchCV(estimator=model, param_distributions=params, n_jobs=-1, n_iter=n_iter, cv=cv,verbose=2, random_state=42)\n",
    "    random.fit(X_train,y_train)\n",
    "    best_params = random.best_params_\n",
    "    best_score = random.best_score_\n",
    "    best_estimator = random.best_estimator_\n",
    "    return best_params,best_score,best_estimator"
   ]
  },
  {
   "cell_type": "code",
   "execution_count": 8,
   "id": "5164e45c",
   "metadata": {},
   "outputs": [
    {
     "name": "stdout",
     "output_type": "stream",
     "text": [
      "Fitting 10 folds for each of 100 candidates, totalling 1000 fits\n"
     ]
    }
   ],
   "source": [
    "best_params, best_score, best_estimator_random = Hypertuning_rscv(GradientBoostingRegressor(),gb_params,10,10,X_train,y_train)"
   ]
  },
  {
   "cell_type": "markdown",
   "id": "c97eb172",
   "metadata": {},
   "source": [
    "# GridSearchCV"
   ]
  },
  {
   "cell_type": "code",
   "execution_count": 9,
   "id": "cd0b5545",
   "metadata": {},
   "outputs": [],
   "source": [
    "def Hypertuning_gscv(model,params,cv,X_train,y_train):\n",
    "    grid = GridSearchCV(estimator = model, param_grid = params, cv=cv, n_jobs=-1, verbose=2)\n",
    "    grid.fit(X_train,y_train)\n",
    "    best_score = grid.best_score_\n",
    "    best_params = grid.best_params_\n",
    "    best_estimator = grid.best_estimator_\n",
    "    return best_params,best_score,best_estimator"
   ]
  },
  {
   "cell_type": "code",
   "execution_count": 10,
   "id": "0c66b49f",
   "metadata": {},
   "outputs": [],
   "source": [
    "# best_params, best_score, best_estimator_grid = Hypertuning_gscv(GradientBoostingRegressor(),gb_params,3,X_train,y_train)"
   ]
  },
  {
   "cell_type": "markdown",
   "id": "0a1cfeba",
   "metadata": {},
   "source": [
    "# Evaluation"
   ]
  },
  {
   "cell_type": "markdown",
   "id": "effd691d",
   "metadata": {},
   "source": [
    "R2 SCORE"
   ]
  },
  {
   "cell_type": "code",
   "execution_count": 11,
   "id": "71dc6938",
   "metadata": {},
   "outputs": [
    {
     "name": "stdout",
     "output_type": "stream",
     "text": [
      "Train R2 score Base Model: 98.12%\n",
      "Test R2 score Base Model: 90.03%\n",
      "\n",
      "Train R2 score Randomimzed: 99.78%\n",
      "Test R2 score Randomized: 90.05%\n"
     ]
    }
   ],
   "source": [
    "R2_score(base_model,X_train,y_train,'Train R2 score Base Model')\n",
    "R2_score(base_model,X_test,y_test,'Test R2 score Base Model')\n",
    "print('')\n",
    "R2_score(best_estimator_random,X_train,y_train,'Train R2 score Randomimzed')\n",
    "R2_score(best_estimator_random,X_test,y_test,'Test R2 score Randomized')\n",
    "# print('')\n",
    "# R2_score(best_estimator_grid,X_train,y_train,'Train R2 score Grid')\n",
    "# R2_score(best_estimator_grid,X_test,y_test,'Test R2 scorey Grid')"
   ]
  },
  {
   "cell_type": "markdown",
   "id": "5c34abf9",
   "metadata": {},
   "source": [
    "MEAN ERROR & MAPE"
   ]
  },
  {
   "cell_type": "code",
   "execution_count": 12,
   "id": "7c04198a",
   "metadata": {},
   "outputs": [
    {
     "name": "stdout",
     "output_type": "stream",
     "text": [
      "Model Performance\n",
      "Average Error: 2.3241 degrees.\n",
      "Accuracy = 89.44%.\n"
     ]
    }
   ],
   "source": [
    "base_accuracy = Evaluate_Regressor(base_model,X_test,y_test)"
   ]
  },
  {
   "cell_type": "code",
   "execution_count": 13,
   "id": "73f1f4cb",
   "metadata": {},
   "outputs": [
    {
     "name": "stdout",
     "output_type": "stream",
     "text": [
      "Model Performance\n",
      "Average Error: 2.1785 degrees.\n",
      "Accuracy = 90.54%.\n"
     ]
    }
   ],
   "source": [
    "random_accuracy_regressor = Evaluate_Regressor(best_estimator_random,X_test,y_test)"
   ]
  },
  {
   "cell_type": "code",
   "execution_count": 14,
   "id": "383bed25",
   "metadata": {},
   "outputs": [
    {
     "name": "stdout",
     "output_type": "stream",
     "text": [
      "Improvement of 1.22%.\n"
     ]
    }
   ],
   "source": [
    "print('Improvement of {:0.2f}%.'.format(100*(random_accuracy_regressor-base_accuracy)/base_accuracy))"
   ]
  },
  {
   "cell_type": "code",
   "execution_count": 15,
   "id": "f937b2e8",
   "metadata": {},
   "outputs": [],
   "source": [
    "# grid_accuracy_regressor = Evaluate_Regressor(best_estimator_grid,X_test,y_test)"
   ]
  },
  {
   "cell_type": "code",
   "execution_count": 16,
   "id": "fec20aae",
   "metadata": {},
   "outputs": [],
   "source": [
    "# print('Improvement of {:0.2f}%.'.format(100*(grid_accuracy_regressor-base_accuracy)/base_accuracy))"
   ]
  }
 ],
 "metadata": {
  "kernelspec": {
   "display_name": "Python 3 (ipykernel)",
   "language": "python",
   "name": "python3"
  },
  "language_info": {
   "codemirror_mode": {
    "name": "ipython",
    "version": 3
   },
   "file_extension": ".py",
   "mimetype": "text/x-python",
   "name": "python",
   "nbconvert_exporter": "python",
   "pygments_lexer": "ipython3",
   "version": "3.9.12"
  }
 },
 "nbformat": 4,
 "nbformat_minor": 5
}
