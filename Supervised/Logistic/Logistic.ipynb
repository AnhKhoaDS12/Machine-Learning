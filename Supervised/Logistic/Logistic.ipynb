{
 "cells": [
  {
   "cell_type": "code",
   "execution_count": 1,
   "id": "4a51a476",
   "metadata": {},
   "outputs": [],
   "source": [
    "import pandas as pd,warnings,numpy as np,matplotlib.pyplot as plt,seaborn as sns,statsmodels.api as sm\n",
    "from sklearn.datasets import load_digits,load_iris\n",
    "from sklearn.model_selection import train_test_split,GridSearchCV\n",
    "from sklearn.linear_model import LogisticRegression\n",
    "from sklearn.metrics import accuracy_score,classification_report,confusion_matrix,plot_confusion_matrix\n",
    "from sklearn.preprocessing import StandardScaler\n",
    "warnings.filterwarnings('ignore')"
   ]
  },
  {
   "cell_type": "markdown",
   "id": "bdf4c1ef",
   "metadata": {},
   "source": [
    "# BINARY (DROP 1 CATEGORICAL)"
   ]
  },
  {
   "cell_type": "code",
   "execution_count": 2,
   "id": "cffd4fd3",
   "metadata": {},
   "outputs": [],
   "source": [
    "df = sns.load_dataset('iris')\n",
    "df.species.unique()\n",
    "df.isnull().sum()\n",
    "df = df[df['species']!='setosa']\n",
    "#Hay bị lỗi khúc này vì enter nhiều lần sẽ bị nan, nên enter 1 lần thôi\n",
    "df['species'] = df['species'].map({'versicolor':0,'virginica':1})\n",
    "X = df.iloc[:,:-1]\n",
    "y = df.iloc[:,-1]\n",
    "X_train, X_test, y_train, y_test = train_test_split(X, y, test_size=0.25, random_state=42)"
   ]
  },
  {
   "cell_type": "markdown",
   "id": "e1f2fd51",
   "metadata": {},
   "source": [
    "# LOGISTIC(sklearn)\n",
    "+ C: inverse of regularization strength\n",
    "+ penalty: type of regularization\n",
    "+ solver: algorithm used for optimization"
   ]
  },
  {
   "cell_type": "code",
   "execution_count": 10,
   "id": "efe1ef72",
   "metadata": {},
   "outputs": [
    {
     "name": "stdout",
     "output_type": "stream",
     "text": [
      "              precision    recall  f1-score   support\n",
      "\n",
      "           0       0.93      0.93      0.93        14\n",
      "           1       0.91      0.91      0.91        11\n",
      "\n",
      "    accuracy                           0.92        25\n",
      "   macro avg       0.92      0.92      0.92        25\n",
      "weighted avg       0.92      0.92      0.92        25\n",
      "\n"
     ]
    },
    {
     "data": {
      "image/png": "[encoded data removed]",
      "text/plain": [
       "<Figure size 432x288 with 2 Axes>"
      ]
     },
     "metadata": {
      "needs_background": "light"
     },
     "output_type": "display_data"
    }
   ],
   "source": [
    "#elasticnet là sự kết hợp giữa L1 và L2\n",
    "parameters = {'penalty':['l2'],'C':[1,2,3,4,5,6,10,20,30,50],'max_iter':[100,200,300]}\n",
    "classifier = LogisticRegression()\n",
    "classifier_regressor = GridSearchCV(classifier,param_grid=parameters,scoring='accuracy',cv=10)\n",
    "classifier_regressor.fit(X_train,y_train)\n",
    "classifier_regressor.best_params_\n",
    "classifier_regressor.best_score_\n",
    "y_pred = classifier_regressor.predict(X_test)\n",
    "score = accuracy_score(y_pred,y_test)\n",
    "print(classification_report(y_pred,y_test))\n",
    "plot_confusion_matrix(classifier_regressor,X_test,y_test,display_labels=['versicolor', 'virginica'],cmap=plt.cm.Blues);"
   ]
  },
  {
   "cell_type": "markdown",
   "id": "256d5d20",
   "metadata": {},
   "source": [
    "# LOGISTIC (statsmodels)"
   ]
  },
  {
   "cell_type": "code",
   "execution_count": null,
   "id": "a1bb4cb4",
   "metadata": {},
   "outputs": [],
   "source": [
    "x = sm.add_constant(X_train)\n",
    "model = sm.Logit(y_train,x)\n",
    "result = model.fit(method='newton')\n",
    "# print(result.params)\n",
    "# print(result.predict(x))\n",
    "# print(result.summary())"
   ]
  },
  {
   "cell_type": "markdown",
   "id": "02c7728f",
   "metadata": {},
   "source": [
    "# PRACTICE 1:"
   ]
  },
  {
   "cell_type": "code",
   "execution_count": null,
   "id": "c587addd",
   "metadata": {},
   "outputs": [],
   "source": [
    "df = pd.read_csv(r\"C:\\Users\\ADMIN\\Documents\\Data_Science\\Data\\HR_comma_sep.csv\")\n",
    "# pd.crosstab(df.salary,df.left).plot(kind='bar')\n",
    "sub_df = df[['satisfaction_level','average_montly_hours','promotion_last_5years','salary']]\n",
    "#Prefix giúp đổi tên cột có dấu _\n",
    "salary_dummies = pd.get_dummies(sub_df.salary, prefix=\"salary\")\n",
    "df_with_dummies = pd.concat([sub_df,salary_dummies],axis='columns')\n",
    "df_with_dummies.drop(columns = 'salary',inplace=True)\n",
    "X = df_with_dummies\n",
    "y = df.left\n",
    "X_train, X_test, y_train, y_test = train_test_split(X,y,train_size=0.3)\n",
    "model = LogisticRegression().fit(X_train, y_train)\n",
    "model.predict(X_test)\n",
    "print(model.score(X_test,y_test))\n",
    "print(model.score(X_train,y_train))"
   ]
  },
  {
   "cell_type": "markdown",
   "id": "5668ab68",
   "metadata": {},
   "source": [
    "# PRACTICE 2:"
   ]
  },
  {
   "cell_type": "code",
   "execution_count": null,
   "id": "20794ef8",
   "metadata": {},
   "outputs": [],
   "source": [
    "df = pd.read_csv(r\"C:\\Users\\ADMIN\\Documents\\Data_Science\\Data\\insurance_data.csv\")\n",
    "# plt.scatter(df.age,df.bought_insurance,marker='+',color='red')\n",
    "X_train, X_test, y_train, y_test = train_test_split(df[['age']],df.bought_insurance,test_size=0.3)\n",
    "parameters = {'penalty':['l1','l2','elasticnet'],'C':[1,2,3,4,5,6,10,20,30,50],'max_iter':[100,200,300]}\n",
    "model_logistic = LogisticRegression().fit(X_train, y_train)\n",
    "model = GridSearchCV(model_logistic,param_grid = parameters,scoring = 'f1',cv=5)\n",
    "model.fit(X_train,y_train)\n",
    "model.best_params_\n",
    "model.best_score_\n",
    "y_pred = classifier_regressor.predict(X_test)\n",
    "score = accuracy_score(y_pred,y_test)\n",
    "print(classification_report(y_pred,y_test))\n",
    "print('Coefficents: ',model_logistic.coef_)\n",
    "print('Intercept: ',model_logistic.intercept_)"
   ]
  },
  {
   "cell_type": "markdown",
   "id": "4c6f0bdb",
   "metadata": {},
   "source": [
    "# MULTICLASS (PRACTICE 1)"
   ]
  },
  {
   "cell_type": "code",
   "execution_count": 34,
   "id": "064cb2ff",
   "metadata": {
    "scrolled": false
   },
   "outputs": [
    {
     "data": {
      "text/plain": [
       "<sklearn.metrics._plot.confusion_matrix.ConfusionMatrixDisplay at 0x1fe6c896460>"
      ]
     },
     "execution_count": 34,
     "metadata": {},
     "output_type": "execute_result"
    },
    {
     "data": {
      "image/png": "[encoded data removed]",
      "text/plain": [
       "<Figure size 432x288 with 2 Axes>"
      ]
     },
     "metadata": {
      "needs_background": "light"
     },
     "output_type": "display_data"
    }
   ],
   "source": [
    "digits = load_digits()\n",
    "# for i in range(10):\n",
    "#     plt.matshow(digits.images[i])\n",
    "X_train, X_test, y_train, y_test = train_test_split(digits.data,digits.target, test_size=0.05)\n",
    "model = LogisticRegression().fit(X_train, y_train)\n",
    "model.score(X_test, y_test)\n",
    "model.predict(digits.data[0:5])\n",
    "y_pred = model.predict(X_test)\n",
    "y_pred_proba = model.predict_proba(X_test)\n",
    "plot_confusion_matrix(model,X_test,y_test,cmap=plt.cm.Blues)"
   ]
  },
  {
   "cell_type": "markdown",
   "id": "dc62dbef",
   "metadata": {},
   "source": [
    "# MULTICLASS (PRACTICE 2)"
   ]
  },
  {
   "cell_type": "code",
   "execution_count": 32,
   "id": "d84c2c75",
   "metadata": {},
   "outputs": [
    {
     "data": {
      "image/png": "[encoded data removed]",
      "text/plain": [
       "<Figure size 432x288 with 2 Axes>"
      ]
     },
     "metadata": {
      "needs_background": "light"
     },
     "output_type": "display_data"
    }
   ],
   "source": [
    "X_train, X_test, y_train, y_test = train_test_split(load_iris().data,load_iris().target, test_size=0.3, random_state=12)\n",
    "parameters = {'penalty':['l2'],'C':[1,2,3,4,5,6,10,20,30,50],'max_iter':[100,200,300]}\n",
    "model_logistic = LogisticRegression()\n",
    "model_logistic.fit(X_train,y_train)\n",
    "\n",
    "model_cv = GridSearchCV(model_logistic,param_grid = parameters,cv=5).fit(X_train,y_train)\n",
    "model_cv.best_params_\n",
    "model_cv.best_score_\n",
    "model_cv.score(X_test,y_test)\n",
    "\n",
    "y_pred = model_cv.predict(X_test)\n",
    "model_cv.predict_proba(X_test)\n",
    "model_logistic.coef_\n",
    "model_logistic.intercept_\n",
    "plot_confusion_matrix(model_logistic,X_test,y_test,display_labels=['setosa', 'versicolor', 'virginica'],cmap=plt.cm.Blues);"
   ]
  },
  {
   "cell_type": "code",
   "execution_count": 27,
   "id": "81d47b84",
   "metadata": {},
   "outputs": [],
   "source": [
    "# # Create one-vs-rest logistic regression object\n",
    "# clf = LogisticRegression(random_state=0, multi_class='ovr')"
   ]
  }
 ],
 "metadata": {
  "kernelspec": {
   "display_name": "Python 3 (ipykernel)",
   "language": "python",
   "name": "python3"
  },
  "language_info": {
   "codemirror_mode": {
    "name": "ipython",
    "version": 3
   },
   "file_extension": ".py",
   "mimetype": "text/x-python",
   "name": "python",
   "nbconvert_exporter": "python",
   "pygments_lexer": "ipython3",
   "version": "3.9.12"
  }
 },
 "nbformat": 4,
 "nbformat_minor": 5
}
